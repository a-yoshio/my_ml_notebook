{
 "cells": [
  {
   "cell_type": "markdown",
   "metadata": {},
   "source": [
    "# Statistics: 統計"
   ]
  },
  {
   "cell_type": "code",
   "execution_count": 120,
   "metadata": {},
   "outputs": [],
   "source": [
    "import random\n",
    "import collections\n",
    "import matplotlib.pyplot as plt\n",
    "import math\n",
    "import numpy as np\n",
    "import matplotlib.pyplot as plt"
   ]
  },
  {
   "cell_type": "code",
   "execution_count": 139,
   "metadata": {},
   "outputs": [
    {
     "name": "stdout",
     "output_type": "stream",
     "text": [
      "[35, 58, 9, 40, 50, 61, 43, 8, 8, 12, 68, 18, 12, 57, 53, 43, 12, 5, 16, 17, 41, 11, 45, 70, 38, 44, 28, 49, 72, 13, 50, 37, 37, 13, 35, 39, 24, 7, 51, 14, 10, 57, 45, 60, 57, 16, 60, 31, 46, 16, 17, 43, 46, 11, 72, 49, 66, 43, 20, 88, 47, 47, 39, 44, 13, 58, 17, 29, 72, 65, 4, 32, 47, 20, 26, 46, 13, 22, 32, 42, 89, 61, 70, 16, 21, 38, 18, 7, 54, 46, 86, 32, 59, 65, 32, 8, 39, 42, 32, 86, 20, 17, 59, 6, 94, 62, 14, 14, 27, 24, 57, 16, 61, 8, 18, 75, 7, 64, 16, 6, 47, 32, 12, 16, 53, 45, 26, 6, 34, 19, 21, 18, 54, 16, 11, 92, 14, 52, 32, 14, 85, 12, 20, 24, 56, 58, 52, 5, 12, 39, 79, 12, 11, 45, 14, 55, 29, 24, 70, 7, 68, 22, 31, 50, 22, 28, 43, 38, 33, 26, 33, 30, 66, 5, 19, 28, 49, 68, 30, 18, 13, 68, 24, 52, 92, 3, 28, 79, 6, 30, 60, 38, 13, 20, 21, 24, 23, 60, 24, 49, 29, 11, 20, 31, 29, 19, 52, 11, 75, 41, 37, 69, 50, 12, 40, 53, 14, 13, 29, 17, 30, 26, 20, 37, 9, 17, 67, 32, 66, 75, 70, 81, 65, 59, 22, 45, 7, 23, 11, 31, 14, 41, 23, 40, 95, 23, 2, 11, 16, 29, 65, 12, 28, 1, 13, 5, 62, 25, 49, 83, 24, 9, 64, 21, 84, 58, 25, 5, 50, 16, 42, 49, 28, 80, 9, 35, 94, 52, 6, 62, 31, 40, 18, 22, 23, 20, 79, 16, 61, 68, 35, 21, 56, 24, 20, 36, 49, 31, 47, 10, 14, 87, 28, 9, 24, 34, 24, 5, 75, 61, 48, 16, 25, 5, 14, 9, 39, 87, 8, 14, 55, 24, 58, 35, 79, 3, 37, 44, 5, 31, 5, 80, 19, 45, 85, 10, 30, 3, 33, 31, 44, 9, 10, 2, 4, 16, 35, 28, 40, 31, 17, 35, 90, 8, 85, 43, 34, 24, 34, 11, 10, 47, 38, 10, 11, 29, 26, 28, 30, 8, 43, 52, 7, 33, 23, 9, 9, 9, 43, 41, 69, 30, 32, 57, 23, 10, 16, 13, 54, 16, 70, 72, 84, 36, 15, 22, 56, 20, 38, 8, 75, 35, 38, 75, 20, 10, 20, 58, 40, 58, 58, 49, 59, 12, 17, 25, 39, 54, 41, 7, 87, 62, 15, 29, 22, 83, 7, 30, 9, 44, 17, 91, 17, 88, 47, 18, 18, 36, 14, 12, 24, 6, 5, 38, 58, 14, 38, 37, 24, 63, 13, 58, 54, 39, 55, 44, 15, 34, 33, 17, 40, 20, 26, 50, 33, 64, 16, 9, 35, 19, 48, 9, 13, 29, 87, 12, 8, 9, 54, 59, 59, 69, 39, 38, 33, 25, 98, 21, 38, 1, 53, 30, 51, 56, 40, 85, 23, 47, 50, 62, 55, 24, 48, 73, 24, 12, 37, 20, 20, 52, 38, 42, 12, 42, 49, 2, 52, 21, 39, 45, 63, 51, 84, 56, 25, 48, 91, 25, 41, 30, 24, 17, 49, 8, 31, 48, 21, 48, 61, 26, 31, 68, 16, 79, 49, 6, 13, 25, 31, 42, 31, 17, 17, 29, 11, 58, 52, 12, 64, 31, 15, 39, 58, 10, 20, 26, 19, 86, 72, 35, 57, 24, 22, 33, 82, 9, 11, 16, 45, 31, 21, 67, 40, 4, 61, 30, 43, 18, 45, 47, 12, 76, 12, 62, 82, 9, 24, 26, 36, 34, 46, 56, 55, 25, 17, 52, 37, 6, 21, 65, 3, 77, 37, 44, 54, 37, 37, 76, 58, 32, 19, 19, 36, 48, 12, 55, 39, 59, 27, 61, 21, 19, 33, 48, 63, 74, 21, 44, 10, 6, 43, 74, 12, 27, 20, 96, 33, 82, 40, 17, 3, 33, 17, 23, 33, 14, 54, 82, 62, 21, 48, 58, 59, 41, 4, 77, 74, 7, 66, 21, 36, 66, 78, 60, 13, 25, 9, 17, 56, 70, 53, 49, 37, 24, 31, 71, 81, 7, 13, 50, 30, 19, 59, 54, 24, 12, 40, 23, 13, 39, 34, 57, 33, 10, 51, 28, 16, 42, 2, 63, 4, 37, 15, 20, 87, 79, 9, 42, 18, 16, 84, 13, 41, 39, 12, 28, 37, 44, 46, 11, 23, 21, 73, 68, 11, 42, 29, 27, 49, 8, 34, 54, 13, 76, 65, 10, 43, 5, 8, 66, 63, 35, 14, 37, 12, 86, 28, 49, 33, 3, 33, 20, 13, 18, 68, 51, 8, 4, 19, 11, 34, 28, 23, 93, 18, 24, 65, 34, 60, 57, 52, 49, 14, 22, 12, 29, 70, 38, 22, 27, 36, 16, 27, 82, 17, 50, 15, 57, 60, 15, 59, 24, 40, 62, 39, 80, 19, 8, 17, 69, 26, 5, 44, 15, 17, 57, 40, 11, 12, 50, 46, 67, 18, 14, 55, 81, 34, 31, 10, 55, 16, 27, 60, 13, 55, 46, 53, 48, 7, 9, 77, 27, 40, 86, 76, 8, 19, 35, 34, 79, 58, 79, 55, 11, 43, 14, 39, 62, 58, 62, 41, 1, 18, 9, 24, 23, 8, 45, 94, 75, 43, 57, 31, 29, 9, 40, 41, 10, 28, 17, 55, 32, 16, 31, 50, 7, 27, 47, 47, 36, 32, 11, 38, 79, 12, 16, 43, 23, 23, 68, 32, 19, 20, 64, 4, 83, 69, 12, 66, 22, 61, 68, 33, 54, 10, 26, 27, 10, 31, 93, 63, 19, 8, 34, 34, 21, 7, 7, 35, 26, 68, 75, 16, 25, 26, 84, 35, 17, 76, 7, 43, 75, 21, 64, 28, 63, 41, 24, 32, 47, 68, 5, 40, 30, 23, 47, 26, 74, 39, 11, 33, 53, 67, 53, 31, 16, 66, 50, 17, 12, 6, 15, 51, 48, 50, 22, 53, 27, 28, 61, 41, 11, 44, 33, 82, 10, 38, 87, 55, 28, 40, 39, 38, 28, 80, 60, 46, 21, 25, 31]\n"
     ]
    }
   ],
   "source": [
    "num_friends = []\n",
    "for i in range(0, 1000):\n",
    "    num_friends.append(math.floor(random.triangular(0, 100, 10) ))S\n",
    "print(num_friends)"
   ]
  },
  {
   "cell_type": "code",
   "execution_count": 140,
   "metadata": {},
   "outputs": [
    {
     "name": "stdout",
     "output_type": "stream",
     "text": [
      "Counter({12: 27, 16: 26, 24: 26, 17: 24, 31: 22, 9: 21, 11: 20, 20: 20, 13: 19, 28: 18, 14: 18, 21: 18, 33: 18, 40: 17, 8: 17, 39: 17, 10: 17, 58: 16, 38: 16, 23: 16, 43: 15, 49: 15, 37: 15, 7: 15, 19: 15, 35: 14, 18: 14, 32: 14, 26: 14, 34: 14, 50: 13, 5: 13, 47: 13, 29: 13, 30: 13, 68: 12, 41: 12, 22: 12, 55: 12, 25: 12, 57: 11, 44: 11, 54: 11, 27: 11, 52: 11, 48: 11, 61: 10, 45: 10, 59: 10, 6: 10, 62: 10, 53: 9, 60: 9, 46: 9, 42: 9, 75: 9, 79: 9, 15: 9, 66: 8, 36: 8, 70: 7, 65: 7, 4: 7, 56: 7, 63: 7, 51: 6, 64: 6, 3: 6, 87: 6, 82: 6, 72: 5, 86: 5, 69: 5, 84: 5, 76: 5, 85: 4, 67: 4, 2: 4, 80: 4, 74: 4, 94: 3, 81: 3, 1: 3, 83: 3, 77: 3, 88: 2, 92: 2, 91: 2, 73: 2, 93: 2, 89: 1, 95: 1, 90: 1, 98: 1, 96: 1, 78: 1, 71: 1})\n"
     ]
    }
   ],
   "source": [
    "friend_counts = collections.Counter(num_friends)\n",
    "print(friend_counts)"
   ]
  },
  {
   "cell_type": "code",
   "execution_count": 141,
   "metadata": {},
   "outputs": [
    {
     "name": "stdout",
     "output_type": "stream",
     "text": [
      "[0, 3, 4, 6, 7, 13, 10, 15, 17, 21, 17, 20, 27, 19, 18, 9, 26, 24, 14, 15, 20, 18, 12, 16, 26, 12, 14, 11, 18, 13, 13, 22, 14, 18, 14, 14, 8, 15, 16, 17, 17, 12, 9, 15, 11, 10, 9, 13, 11, 15, 13, 6, 11, 9, 11, 12, 7, 11, 16, 10, 9, 10, 10, 7, 6, 7, 8, 4, 12, 5, 7, 1, 5, 2, 4, 9, 5, 3, 1, 9, 4, 3, 6, 3, 5, 4, 5, 6, 2, 1, 1, 2, 2, 2, 3, 1, 1, 0, 1, 0, 0, 0, 0, 0, 0, 0, 0, 0, 0, 0, 0, 0, 0, 0, 0, 0, 0, 0, 0, 0, 0, 0, 0, 0, 0, 0, 0, 0, 0, 0, 0, 0, 0, 0, 0, 0, 0, 0, 0, 0, 0, 0, 0, 0, 0, 0, 0, 0, 0, 0, 0, 0, 0, 0, 0, 0, 0, 0, 0, 0, 0, 0, 0, 0, 0, 0, 0, 0, 0, 0, 0, 0, 0, 0, 0, 0, 0, 0, 0, 0, 0, 0, 0, 0, 0, 0, 0, 0, 0, 0, 0, 0, 0, 0, 0, 0, 0, 0, 0, 0]\n"
     ]
    }
   ],
   "source": [
    "xs = range(200)\n",
    "ys = [friend_counts[x] for x in xs]\n",
    "print(ys)"
   ]
  },
  {
   "cell_type": "code",
   "execution_count": 142,
   "metadata": {},
   "outputs": [
    {
     "data": {
      "image/png": "[encoded data removed]",
      "text/plain": [
       "<Figure size 432x288 with 1 Axes>"
      ]
     },
     "metadata": {
      "needs_background": "light"
     },
     "output_type": "display_data"
    }
   ],
   "source": [
    "plt.bar(xs, ys)\n",
    "plt.axis([0, 200, 0, 25])\n",
    "plt.title(\"Histogram og Friend Counts\")\n",
    "plt.xlabel(\"# of friends\")\n",
    "plt.ylabel(\"# of people\")\n",
    "plt.show()"
   ]
  },
  {
   "cell_type": "code",
   "execution_count": 143,
   "metadata": {},
   "outputs": [
    {
     "name": "stdout",
     "output_type": "stream",
     "text": [
      "data count:  1000\n",
      "max friends count:  98\n",
      "min friends count:  1\n",
      "smallest value:  1\n",
      "second smallest value:  1\n",
      "secont largest value:  96\n"
     ]
    }
   ],
   "source": [
    "num_points = len(num_friends)\n",
    "print('data count: ', num_points)\n",
    "largest_value = max(num_friends)\n",
    "print('max friends count: ', largest_value)\n",
    "smallest_value = min(num_friends)\n",
    "print('min friends count: ', smallest_value)\n",
    "sorted_values = sorted(num_friends)\n",
    "# print('sorted: ', sorted_values)\n",
    "smallest_value = sorted_values[0]\n",
    "print('smallest value: ', smallest_value)\n",
    "second_smallest_value= sorted_values[1]\n",
    "print('second smallest value: ', second_smallest_value)\n",
    "second_largest_value = sorted_values[-2]\n",
    "print('secont largest value: ', second_largest_value)"
   ]
  },
  {
   "cell_type": "code",
   "execution_count": 144,
   "metadata": {},
   "outputs": [
    {
     "name": "stdout",
     "output_type": "stream",
     "text": [
      "data mean:  36.543\n"
     ]
    }
   ],
   "source": [
    "## 平均値\n",
    "mean_value = sum(num_friends)/len(num_friends)\n",
    "print('data mean: ', mean_value)"
   ]
  },
  {
   "cell_type": "code",
   "execution_count": 145,
   "metadata": {},
   "outputs": [],
   "source": [
    "## 中央値\n",
    "def median(v):\n",
    "    n = len(v)\n",
    "    sorted_v = sorted(v)\n",
    "    midpoint = n // 2\n",
    "    if n % 2 == 1:\n",
    "        return sorted_v[midpoint]\n",
    "    else:\n",
    "        lo = midpoint - 1\n",
    "        hi = midpoint\n",
    "        return (sorted_v[lo] +  sorted_v[hi])/2"
   ]
  },
  {
   "cell_type": "code",
   "execution_count": 146,
   "metadata": {},
   "outputs": [
    {
     "name": "stdout",
     "output_type": "stream",
     "text": [
      "median:  33.0\n"
     ]
    }
   ],
   "source": [
    "print('median: ', median(num_friends))"
   ]
  },
  {
   "cell_type": "code",
   "execution_count": 147,
   "metadata": {},
   "outputs": [],
   "source": [
    "## 分位数\n",
    "def quantile(x, p):\n",
    "    p_index = int(p*len(x))\n",
    "    return sorted(x)[p_index]"
   ]
  },
  {
   "cell_type": "code",
   "execution_count": 148,
   "metadata": {},
   "outputs": [
    {
     "name": "stdout",
     "output_type": "stream",
     "text": [
      "quantils 10%:  10\n",
      "quantils 25%:  17\n",
      "quantils 75%:  53\n",
      "quantils 90%:  69\n"
     ]
    }
   ],
   "source": [
    "print('quantils 10%: ', quantile(num_friends, 0.10))\n",
    "print('quantils 25%: ', quantile(num_friends, 0.25))\n",
    "print('quantils 75%: ', quantile(num_friends, 0.75))\n",
    "print('quantils 90%: ', quantile(num_friends, 0.90))"
   ]
  },
  {
   "cell_type": "code",
   "execution_count": 149,
   "metadata": {},
   "outputs": [],
   "source": [
    "## 最頻値\n",
    "def mode(x):\n",
    "    counts = collections.Counter(x)\n",
    "    max_count = max(counts.values())\n",
    "    return [x_i for x_i, count in counts.iteritems() if count == max_count]"
   ]
  },
  {
   "cell_type": "code",
   "execution_count": 150,
   "metadata": {},
   "outputs": [
    {
     "ename": "AttributeError",
     "evalue": "'Counter' object has no attribute 'iteritems'",
     "output_type": "error",
     "traceback": [
      "\u001b[0;31m---------------------------------------------------------------------------\u001b[0m",
      "\u001b[0;31mAttributeError\u001b[0m                            Traceback (most recent call last)",
      "\u001b[0;32m<ipython-input-150-6a56fdc3f811>\u001b[0m in \u001b[0;36m<module>\u001b[0;34m\u001b[0m\n\u001b[0;32m----> 1\u001b[0;31m \u001b[0mprint\u001b[0m\u001b[0;34m(\u001b[0m\u001b[0;34m'mode: '\u001b[0m\u001b[0;34m,\u001b[0m\u001b[0mmode\u001b[0m\u001b[0;34m(\u001b[0m\u001b[0mnum_friends\u001b[0m\u001b[0;34m)\u001b[0m\u001b[0;34m)\u001b[0m\u001b[0;34m\u001b[0m\u001b[0;34m\u001b[0m\u001b[0m\n\u001b[0m",
      "\u001b[0;32m<ipython-input-149-d48bddd5625d>\u001b[0m in \u001b[0;36mmode\u001b[0;34m(x)\u001b[0m\n\u001b[1;32m      3\u001b[0m     \u001b[0mcounts\u001b[0m \u001b[0;34m=\u001b[0m \u001b[0mcollections\u001b[0m\u001b[0;34m.\u001b[0m\u001b[0mCounter\u001b[0m\u001b[0;34m(\u001b[0m\u001b[0mx\u001b[0m\u001b[0;34m)\u001b[0m\u001b[0;34m\u001b[0m\u001b[0;34m\u001b[0m\u001b[0m\n\u001b[1;32m      4\u001b[0m     \u001b[0mmax_count\u001b[0m \u001b[0;34m=\u001b[0m \u001b[0mmax\u001b[0m\u001b[0;34m(\u001b[0m\u001b[0mcounts\u001b[0m\u001b[0;34m.\u001b[0m\u001b[0mvalues\u001b[0m\u001b[0;34m(\u001b[0m\u001b[0;34m)\u001b[0m\u001b[0;34m)\u001b[0m\u001b[0;34m\u001b[0m\u001b[0;34m\u001b[0m\u001b[0m\n\u001b[0;32m----> 5\u001b[0;31m     \u001b[0;32mreturn\u001b[0m \u001b[0;34m[\u001b[0m\u001b[0mx_i\u001b[0m \u001b[0;32mfor\u001b[0m \u001b[0mx_i\u001b[0m\u001b[0;34m,\u001b[0m \u001b[0mcount\u001b[0m \u001b[0;32min\u001b[0m \u001b[0mcounts\u001b[0m\u001b[0;34m.\u001b[0m\u001b[0miteritems\u001b[0m\u001b[0;34m(\u001b[0m\u001b[0;34m)\u001b[0m \u001b[0;32mif\u001b[0m \u001b[0mcount\u001b[0m \u001b[0;34m==\u001b[0m \u001b[0mmax_count\u001b[0m\u001b[0;34m]\u001b[0m\u001b[0;34m\u001b[0m\u001b[0;34m\u001b[0m\u001b[0m\n\u001b[0m",
      "\u001b[0;31mAttributeError\u001b[0m: 'Counter' object has no attribute 'iteritems'"
     ]
    }
   ],
   "source": [
    "print('mode: ',mode(num_friends))"
   ]
  },
  {
   "cell_type": "code",
   "execution_count": 151,
   "metadata": {},
   "outputs": [],
   "source": [
    "## データの広がり\n",
    "def data_range(x):\n",
    "    return max(x) - min(x)"
   ]
  },
  {
   "cell_type": "code",
   "execution_count": 152,
   "metadata": {},
   "outputs": [
    {
     "name": "stdout",
     "output_type": "stream",
     "text": [
      "range:  97\n"
     ]
    }
   ],
   "source": [
    "print('range: ', data_range(num_friends))"
   ]
  },
  {
   "cell_type": "code",
   "execution_count": 153,
   "metadata": {},
   "outputs": [],
   "source": [
    "## 平均\n",
    "def mean(x):\n",
    "    return sum(x)/len(x)\n",
    "\n",
    "## 内積\n",
    "def dot(x, w):\n",
    "    return sum(x_i*x_i for x_i in x)\n",
    "\n",
    "## 二乗和\n",
    "def sum_of_squares(x):\n",
    "    return dot(x, x)\n",
    "\n",
    "## 偏差\n",
    "def de_mean(x):\n",
    "    x_bar = mean(x)\n",
    "    return [x_i - x_bar for x_i in x]\n",
    "\n",
    "## 分散\n",
    "def variance(x):\n",
    "    n = len(x)\n",
    "    deviations = de_mean(x)\n",
    "    return sum_of_squares(deviations) / (n -1)"
   ]
  },
  {
   "cell_type": "code",
   "execution_count": 154,
   "metadata": {},
   "outputs": [
    {
     "name": "stdout",
     "output_type": "stream",
     "text": [
      "variance:  513.4716226226228\n"
     ]
    }
   ],
   "source": [
    "print('variance: ' , variance(num_friends))"
   ]
  },
  {
   "cell_type": "code",
   "execution_count": 155,
   "metadata": {},
   "outputs": [],
   "source": [
    "## 標準偏差\n",
    "def standard_deviation(x):\n",
    "    return math.sqrt(variance(x))"
   ]
  },
  {
   "cell_type": "code",
   "execution_count": 156,
   "metadata": {},
   "outputs": [
    {
     "name": "stdout",
     "output_type": "stream",
     "text": [
      "standard deviation:  22.659912237752\n"
     ]
    }
   ],
   "source": [
    "print('standard deviation: ', standard_deviation(num_friends))"
   ]
  },
  {
   "cell_type": "code",
   "execution_count": 157,
   "metadata": {},
   "outputs": [
    {
     "name": "stdout",
     "output_type": "stream",
     "text": [
      "daily minutes data:  [16, 98, 63, 38, 39, 90, 21, 75, 123, 101, 81, 113, 70, 116, 4, 3, 59, 17, 96, 57, 23, 140, 4, 98, 162, 171, 32, 64, 61, 136, 86, 19, 83, 149, 75, 79, 21, 28, 71, 75, 31, 24, 30, 187, 140, 136, 67, 94, 61, 32, 26, 50, 46, 26, 26, 30, 28, 67, 167, 141, 59, 149, 180, 11, 121, 168, 142, 12, 55, 75, 119, 122, 42, 126, 22, 59, 85, 100, 20, 68, 14, 197, 172, 4, 24, 79, 175, 78, 72, 19, 39, 93, 56, 12, 47, 26, 65, 70, 80, 38, 68, 127, 86, 129, 79, 98, 97, 80, 163, 64, 56, 155, 49, 35, 123, 78, 76, 56, 66, 69, 13, 81, 86, 50, 34, 56, 27, 34, 30, 45, 70, 149, 15, 58, 170, 76, 40, 38, 25, 24, 93, 31, 25, 113, 154, 38, 128, 73, 48, 20, 111, 76, 14, 31, 120, 29, 109, 35, 28, 93, 37, 16, 28, 22, 135, 49, 45, 94, 186, 13, 85, 47, 147, 115, 104, 37, 92, 118, 18, 27, 84, 63, 104, 58, 9, 50, 31, 123, 47, 19, 52, 5, 109, 145, 42, 65, 147, 142, 68, 104, 38, 127, 37, 65, 83, 31, 158, 26, 90, 76, 25, 26, 91, 81, 9, 162, 90, 95, 39, 48, 153, 31, 47, 31, 149, 120, 87, 138, 140, 91, 42, 115, 81, 51, 75, 102, 30, 67, 119, 112, 68, 106, 91, 111, 29, 35, 73, 20, 84, 175, 31, 64, 70, 68, 25, 39, 65, 24, 172, 169, 21, 196, 53, 21, 43, 79, 71, 34, 144, 93, 100, 59, 100, 13, 99, 45, 63, 9, 6, 85, 146, 96, 62, 63, 29, 62, 101, 63, 29, 6, 62, 12, 114, 29, 180, 33, 12, 85, 119, 103, 37, 12, 148, 77, 20, 38, 87, 74, 102, 37, 50, 31, 117, 43, 22, 8, 18, 27, 35, 112, 50, 68, 24, 87, 40, 49, 34, 45, 55, 173, 170, 68, 68, 170, 35, 37, 59, 87, 11, 97, 26, 32, 30, 67, 41, 49, 72, 51, 46, 94, 62, 24, 41, 154, 151, 99, 87, 53, 102, 89, 82, 32, 118, 121, 91, 96, 13, 26, 119, 35, 49, 105, 104, 70, 52, 83, 139, 70, 40, 96, 44, 25, 83, 39, 16, 37, 86, 139, 34, 43, 11, 56, 79, 58, 100, 13, 43, 41, 53, 127, 76, 130, 26, 119, 29, 20, 88, 72, 92, 146, 165, 94, 52, 125, 54, 102, 64, 104, 84, 87, 145, 86, 56, 90, 91, 89, 59, 103, 22, 114, 128, 134, 21, 50, 50, 121, 54, 182, 28, 81, 143, 49, 30, 17, 49, 25, 29, 13, 140, 50, 23, 35, 42, 76, 114, 78, 136, 16, 120, 64, 31, 13, 109, 10, 172, 49, 93, 92, 9, 19, 124, 38, 31, 149, 13, 17, 70, 54, 56, 108, 130, 134, 75, 140, 73, 78, 97, 74, 37, 181, 13, 34, 116, 49, 52, 89, 130, 20, 9, 21, 105, 6, 25, 53, 16, 171, 62, 76, 53, 64, 127, 59, 69, 94, 107, 119, 148, 85, 15, 180, 30, 56, 79, 70, 59, 22, 38, 140, 106, 99, 154, 83, 29, 107, 40, 57, 155, 135, 89, 44, 39, 51, 109, 66, 70, 46, 57, 143, 81, 154, 117, 91, 39, 17, 64, 103, 15, 85, 181, 45, 144, 17, 172, 35, 9, 108, 187, 53, 12, 67, 53, 49, 169, 29, 155, 26, 6, 12, 154, 18, 97, 45, 67, 20, 11, 62, 161, 39, 9, 33, 89, 158, 42, 66, 91, 127, 7, 109, 6, 45, 192, 35, 17, 20, 143, 101, 64, 180, 152, 63, 142, 17, 7, 36, 104, 26, 47, 55, 49, 85, 65, 23, 45, 114, 37, 41, 25, 111, 19, 50, 60, 44, 101, 25, 9, 95, 51, 191, 53, 26, 121, 165, 101, 111, 25, 45, 43, 18, 26, 109, 17, 70, 93, 90, 136, 43, 30, 37, 61, 191, 22, 96, 2, 40, 20, 103, 25, 119, 91, 37, 93, 117, 40, 76, 141, 88, 160, 104, 18, 39, 155, 17, 139, 102, 41, 173, 116, 4, 30, 7, 52, 30, 104, 6, 36, 20, 57, 140, 125, 55, 45, 136, 98, 50, 81, 17, 60, 14, 36, 21, 29, 25, 81, 65, 90, 87, 146, 36, 84, 85, 162, 143, 79, 29, 12, 22, 89, 78, 101, 111, 16, 34, 105, 127, 91, 33, 85, 106, 40, 71, 27, 65, 163, 98, 37, 43, 182, 3, 54, 113, 75, 111, 144, 93, 72, 99, 73, 155, 54, 38, 22, 49, 9, 3, 29, 36, 79, 19, 75, 13, 136, 48, 39, 72, 84, 131, 16, 135, 121, 45, 29, 187, 181, 38, 96, 103, 121, 162, 50, 32, 37, 121, 107, 25, 64, 47, 15, 145, 127, 67, 85, 25, 50, 46, 19, 175, 47, 144, 4, 67, 26, 61, 106, 25, 56, 28, 51, 61, 18, 126, 27, 93, 172, 91, 49, 100, 139, 122, 63, 80, 90, 48, 110, 120, 2, 165, 80, 23, 51, 173, 22, 66, 68, 67, 35, 54, 163, 160, 87, 38, 87, 10, 97, 5, 6, 87, 21, 103, 116, 93, 110, 130, 114, 27, 115, 51, 17, 73, 102, 54, 33, 25, 129, 99, 21, 158, 100, 124, 58, 153, 85, 172, 92, 73, 41, 108, 53, 17, 45, 54, 10, 156, 83, 130, 169, 161, 70, 6, 156, 45, 5, 74, 103, 108, 134, 170, 66, 23, 119, 174, 94, 67, 18, 96, 22, 17, 44, 29, 18, 54, 147, 87, 75, 112, 74, 15, 93, 60, 37, 63, 23, 142, 16, 43, 48, 63, 55, 60, 122, 57, 102, 57, 99, 123, 24, 36, 37, 180, 91, 25, 85, 142, 94, 18, 79, 21, 43, 88, 65, 85, 123, 35, 16, 55, 100, 45, 125, 26, 27, 14, 94, 9, 53, 103, 91, 168, 100, 94, 13, 120, 131, 5, 64, 178, 140, 89, 62, 158, 141, 43, 23, 66, 58, 11, 121, 55, 41, 111, 153, 33]\n"
     ]
    }
   ],
   "source": [
    "daily_minutes = []\n",
    "for i in range(0, 1000):\n",
    "    daily_minutes.append(math.floor(random.triangular(0, 200, 20)))\n",
    "print('daily minutes data: ', daily_minutes)"
   ]
  },
  {
   "cell_type": "code",
   "execution_count": 158,
   "metadata": {},
   "outputs": [],
   "source": [
    "## 共分散\n",
    "def covariance(x, y):\n",
    "    n = len(x)\n",
    "    return dot(de_mean(x), de_mean(y)) / (n - 1)"
   ]
  },
  {
   "cell_type": "code",
   "execution_count": 159,
   "metadata": {},
   "outputs": [
    {
     "data": {
      "text/plain": [
       "513.4716226226228"
      ]
     },
     "execution_count": 159,
     "metadata": {},
     "output_type": "execute_result"
    }
   ],
   "source": [
    "covariance(num_friends,  daily_minutes)"
   ]
  },
  {
   "cell_type": "code",
   "execution_count": 160,
   "metadata": {},
   "outputs": [],
   "source": [
    "## 相関係数\n",
    "def correlation(x, y):\n",
    "    stdev_x = standard_deviation(x)\n",
    "    stdev_y = standard_deviation(y)\n",
    "    if stdev_x > 0 and stdev_y > 0:\n",
    "        return covariance(x, y) / stdev_x / stdev_y\n",
    "    else:\n",
    "        return 0"
   ]
  },
  {
   "cell_type": "code",
   "execution_count": 161,
   "metadata": {},
   "outputs": [
    {
     "data": {
      "text/plain": [
       "0.4845633813921752"
      ]
     },
     "execution_count": 161,
     "metadata": {},
     "output_type": "execute_result"
    }
   ],
   "source": [
    "correlation(num_friends, daily_minutes)"
   ]
  },
  {
   "cell_type": "code",
   "execution_count": 162,
   "metadata": {},
   "outputs": [
    {
     "data": {
      "image/png": "[encoded data removed]",
      "text/plain": [
       "<Figure size 432x288 with 1 Axes>"
      ]
     },
     "metadata": {
      "needs_background": "light"
     },
     "output_type": "display_data"
    }
   ],
   "source": [
    "plt.scatter(x=num_friends, y=daily_minutes) # 散布図をプロット\n",
    "plt.title('Correlation with an Outlier')\n",
    "plt.xlabel('of friends')\n",
    "plt.ylabel('minutes per day')\n",
    "plt.show()"
   ]
  }
 ],
 "metadata": {
  "kernelspec": {
   "display_name": "Python 3",
   "language": "python",
   "name": "python3"
  },
  "language_info": {
   "codemirror_mode": {
    "name": "ipython",
    "version": 3
   },
   "file_extension": ".py",
   "mimetype": "text/x-python",
   "name": "python",
   "nbconvert_exporter": "python",
   "pygments_lexer": "ipython3",
   "version": "3.7.1"
  }
 },
 "nbformat": 4,
 "nbformat_minor": 2
}
